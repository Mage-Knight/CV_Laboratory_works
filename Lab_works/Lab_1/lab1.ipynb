{
 "cells": [
  {
   "cell_type": "code",
   "execution_count": 9,
   "metadata": {},
   "outputs": [],
   "source": [
    "import torch\n",
    "import torchvision\n",
    "import torchvision.transforms as transforms\n",
    "import torchvision.models as models\n",
    "import torch.optim as optim\n",
    "import torch.nn as nn\n",
    "import torchmetrics\n",
    "import random\n",
    "import numpy as np\n",
    "import matplotlib.pyplot as plt\n",
    "from math import ceil"
   ]
  },
  {
   "cell_type": "markdown",
   "metadata": {},
   "source": [
    "### Matrix convolution implementation"
   ]
  },
  {
   "cell_type": "code",
   "execution_count": 23,
   "metadata": {},
   "outputs": [
    {
     "name": "stdout",
     "output_type": "stream",
     "text": [
      "[[ 2.5  3.5  4.5]\n",
      " [ 6.5  7.5  8.5]\n",
      " [10.5 11.5 12.5]]\n",
      "[[ 3.  5.]\n",
      " [13. 15.]]\n"
     ]
    }
   ],
   "source": [
    "def matrix_convolve(input: np.ndarray, kernel: np.ndarray, stride: int = 1) -> np.ndarray:\n",
    "    \"\"\"Performs basic convolution on 2d input with 2d kernel.\n",
    "\n",
    "    Parameters\n",
    "    ----------\n",
    "    input : np.ndarray\n",
    "        The input matrix on which convolution is performed\n",
    "    kernel : np.ndarray\n",
    "        The convolution kernel (also matrix)\n",
    "    stride : np.ndarray, optional\n",
    "        The amount of pixels that kernel moves on each iteration (if the next stride would move kernel outside of possible area kernel moves down and start again from the left or stops if it's impossible to move down)\n",
    "\n",
    "    Returns\n",
    "    -------\n",
    "    np.ndarray\n",
    "        A result of convolution\n",
    "    \"\"\"\n",
    "    \n",
    "    # Check for correct input data\n",
    "    if len(input.shape) != 2: raise Exception(\"Error: input should be a 2d matrix\")\n",
    "    if len(kernel.shape) != 2: raise Exception(\"Error: kernel should be a 2d matrix\")\n",
    "    if np.any(kernel.shape > input.shape): raise Exception(\"Error: kernel can't be bigger than input in any dimension\")\n",
    "    if stride < 1: raise Exception(\"Error: stride should be an integer greater than or equal 1\")\n",
    "\n",
    "    # Get dimensions of input and kernel, as well as amount of steps needed\n",
    "    input_h, input_w = input.shape\n",
    "    kernel_h, kernel_w = kernel.shape\n",
    "    delta_h = ceil((input_h - kernel_h + 1) / stride)\n",
    "    delta_w = ceil((input_w - kernel_w + 1) / stride)\n",
    "    # Define convolution result matrix\n",
    "    conv_res = np.zeros((delta_h, delta_w ))\n",
    "    \n",
    "    # Perform convolution, first cycle controls vertical kernel movement,\n",
    "    # second - horizontal movement\n",
    "    for i in range(delta_h):\n",
    "        for j in range(delta_w):\n",
    "            conv_res[i, j] = np.sum(input[i * stride:i * stride + kernel_h, j * stride:j * stride + kernel_w] * kernel)\n",
    "            \n",
    "    return conv_res\n",
    "\n",
    "# Test 1\n",
    "input = np.arange(16).reshape((4, 4))\n",
    "kernel = np.ones((2, 2)) / 4\n",
    "print(matrix_convolve(input, kernel))\n",
    "\n",
    "# Test 2\n",
    "input2 = np.arange(25).reshape((5, 5))\n",
    "print(matrix_convolve(input2, kernel, stride = 2))"
   ]
  }
 ],
 "metadata": {
  "kernelspec": {
   "display_name": "main_AI",
   "language": "python",
   "name": "python3"
  },
  "language_info": {
   "codemirror_mode": {
    "name": "ipython",
    "version": 3
   },
   "file_extension": ".py",
   "mimetype": "text/x-python",
   "name": "python",
   "nbconvert_exporter": "python",
   "pygments_lexer": "ipython3",
   "version": "3.11.5"
  }
 },
 "nbformat": 4,
 "nbformat_minor": 2
}
